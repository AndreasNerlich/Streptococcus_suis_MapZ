{
 "cells": [
  {
   "cell_type": "markdown",
   "metadata": {},
   "source": [
    "# Notebook used to predict and quantifiy morphological parameters from phase contrast images of <i>S. suis\n",
    "----------------------------------------------------------------------------------------------------"
   ]
  },
  {
   "cell_type": "markdown",
   "metadata": {},
   "source": [
    "## Load dependencies"
   ]
  },
  {
   "cell_type": "code",
   "execution_count": 1,
   "metadata": {},
   "outputs": [],
   "source": [
    "from __future__ import print_function, unicode_literals, absolute_import, division\n",
    "import sys\n",
    "import numpy as np\n",
    "import matplotlib\n",
    "matplotlib.rcParams[\"image.interpolation\"] = None\n",
    "import matplotlib.pyplot as plt\n",
    "#%matplotlib inlineconfig InlineBackend.figure_format = 'retina'\n",
    "import pandas as pd\n",
    "from skimage.segmentation import clear_border\n",
    "from skimage.measure import label, regionprops, regionprops_table\n",
    "from skimage import img_as_float32, img_as_ubyte, img_as_float\n",
    "\n",
    "import time\n",
    "from glob import glob\n",
    "import pathlib\n",
    "import os\n",
    "from tqdm import tqdm\n",
    "from tifffile import imread, imsave\n",
    "from csbdeep.utils import Path, normalize\n",
    "from csbdeep.io import save_tiff_imagej_compatible\n",
    "\n",
    "from stardist import random_label_cmap, _draw_polygons, export_imagej_rois\n",
    "from stardist.models import StarDist2D\n",
    "\n",
    "np.random.seed(6)\n",
    "lbl_cmap = random_label_cmap()\n",
    "\n",
    "# For sliders and dropdown menu and progress bar\n",
    "from ipywidgets import interact\n",
    "import ipywidgets as widgets"
   ]
  },
  {
   "cell_type": "code",
   "execution_count": 2,
   "metadata": {},
   "outputs": [],
   "source": [
    "# show test images\n",
    "if False:\n",
    "    fig, ax = plt.subplots(7,8, figsize=(16,16))\n",
    "    for i,(a,x) in enumerate(zip(ax.flat, X)):\n",
    "        a.imshow(x,cmap='gray')\n",
    "        a.set_title(i)\n",
    "    [a.axis('off') for a in ax.flat]\n",
    "    plt.tight_layout()\n",
    "None;"
   ]
  },
  {
   "cell_type": "markdown",
   "metadata": {},
   "source": [
    "# Define output folders\n"
   ]
  },
  {
   "cell_type": "code",
   "execution_count": 3,
   "metadata": {},
   "outputs": [],
   "source": [
    "# Define path containing the input\n",
    "image_path = '/Data/MapZ/TestData/Images'\n",
    "\n",
    "\n",
    "#Create a results folder and check if the folder already exist\n",
    "if os.path.exists('/Data/MapZ/TestData/Results') == False:\n",
    "  os.makedirs('/Datea/MapZ/TestData/Results')\n",
    "\n",
    "results_path = '/Datea/MapZ/TestData/Results'"
   ]
  },
  {
   "cell_type": "markdown",
   "metadata": {},
   "source": [
    "# Load StarDist models\n",
    "\n",
    "We assume that aStarDist model has already been trained via notebook [1_training.ipynb](1_training.ipynb)."
   ]
  },
  {
   "cell_type": "code",
   "execution_count": 4,
   "metadata": {},
   "outputs": [
    {
     "name": "stdout",
     "output_type": "stream",
     "text": [
      "The stardist_5 network will be used for prediction\n",
      "\n",
      "Loading network weights from 'weights_best.h5'.\n",
      "Loading thresholds from 'thresholds.json'.\n",
      "Using default values: prob_thresh=0.409794, nms_thresh=0.3.\n"
     ]
    }
   ],
   "source": [
    "# Define model\n",
    "model_name = 'stardist_5'\n",
    "model_path = \"/DL/stardist2/models\"\n",
    "model_folder = \"/DL/stardist2/models/stardist_5\" #@param {type:\"string\"}\n",
    "\n",
    "print(\"The \"+model_name+\" network will be used for prediction\")\n",
    "print('')\n",
    "\n",
    "# Load model\n",
    "model = StarDist2D(None, name=model_name, basedir=model_path)"
   ]
  },
  {
   "cell_type": "markdown",
   "metadata": {},
   "source": [
    "## Prediction of masks and quantitification of defined paramaters\n",
    "\n",
    "1. Load image stacks (single images for each strain have been combined to stacks in ImageJ) and normalize\n",
    "2. Predict objects\n",
    "3. Quantifiy defined parameter using regionprops (skimage package)\n"
   ]
  },
  {
   "cell_type": "code",
   "execution_count": 5,
   "metadata": {},
   "outputs": [
    {
     "name": "stderr",
     "output_type": "stream",
     "text": [
      "\r",
      "  0%|          | 0/9 [00:00<?, ?it/s]"
     ]
    },
    {
     "name": "stdout",
     "output_type": "stream",
     "text": [
      "Performing prediction on: 200805_c0375_1_100x_masks.tif\n"
     ]
    },
    {
     "name": "stderr",
     "output_type": "stream",
     "text": [
      "100%|██████████| 9/9 [00:23<00:00,  2.62s/it]\n",
      "  0%|          | 0/9 [00:00<?, ?it/s]"
     ]
    },
    {
     "name": "stdout",
     "output_type": "stream",
     "text": [
      "Performing prediction on: 200805_c0375_2_100x_masks.tif\n"
     ]
    },
    {
     "name": "stderr",
     "output_type": "stream",
     "text": [
      "100%|██████████| 9/9 [00:02<00:00,  3.22it/s]\n"
     ]
    },
    {
     "name": "stdout",
     "output_type": "stream",
     "text": [
      "Performing prediction on: 200805_c0375_1_100x.tif\n"
     ]
    },
    {
     "name": "stderr",
     "output_type": "stream",
     "text": [
      "100%|██████████| 9/9 [00:03<00:00,  2.62it/s]\n",
      "  0%|          | 0/9 [00:00<?, ?it/s]"
     ]
    },
    {
     "name": "stdout",
     "output_type": "stream",
     "text": [
      "Performing prediction on: 200805_c0375_2_100x.tif\n"
     ]
    },
    {
     "name": "stderr",
     "output_type": "stream",
     "text": [
      "100%|██████████| 9/9 [00:03<00:00,  2.68it/s]"
     ]
    },
    {
     "name": "stdout",
     "output_type": "stream",
     "text": [
      "\n",
      "------------------------------------------------------------\n",
      "Time elapsed (hh:mm:ss.ms): 00:00:30\n"
     ]
    },
    {
     "name": "stderr",
     "output_type": "stream",
     "text": [
      "\n"
     ]
    }
   ],
   "source": [
    "t = time.process_time()\n",
    "\n",
    "# normalize channels independently\n",
    "axis_norm = (0,1) \n",
    "\n",
    "# define regionprops measurements\n",
    "properties = ['major_axis_length', 'minor_axis_length', 'area', 'perimeter']\n",
    "\n",
    "for image in os.listdir(image_path):\n",
    "    print(\"Performing prediction on: \"+image)\n",
    "    \n",
    "    short_name = os.path.splitext(image)  \n",
    "\n",
    "    timelapse = imread(image_path+\"/\"+image)   \n",
    "    \n",
    "    timelapse = normalize(timelapse, 1,99.8, axis=(0,)+tuple(1+np.array(axis_norm)))\n",
    "\n",
    "    table_stack = pd.DataFrame()\n",
    "    \n",
    "    n_images = timelapse.shape[0]\n",
    "    prediction_stack = np.empty((n_images, timelapse.shape[1], timelapse.shape[2]), dtype='uint16')\n",
    "    table_temp = pd.DataFrame()\n",
    "    for t in tqdm(range(n_images), position = 0, leave = True):\n",
    "        img_t = timelapse[t]\n",
    "        labels, polygons = model.predict_instances(img_t)#, n_tiles=model._guess_n_tiles(img), show_tile_progress=False)\n",
    "        clear_border(labels, in_place=True)\n",
    "        prediction_stack[t] = labels\n",
    "        tables = regionprops_table(prediction_stack[t], properties=properties) \n",
    "        table = pd.DataFrame(tables)\n",
    "        table = table * (0.0645) # adjust this value according to the pixel size for your microscope/objective\n",
    "        table_stack = table_stack.append(table)\n",
    "\n",
    "    table_stack.to_csv(results_path + \"/\" + str(short_name[0]) + '.csv', index=True, header=True)\n",
    "    \n",
    "    #image_stack = img_as_float32(prediction_stack, force_copy=False)\n",
    "    imsave(results_path + \"/\" + str(short_name[0]) + '_masks.tif', prediction_stack, imagej=True,\n",
    "                resolution=(1./0.0645, 1./0.0645), metadata={'spacing': 1.00, 'unit': 'micron', 'axes': 'ZYX'})\n",
    "    \n",
    "    \n",
    "elapsed_time = time.process_time() - t\n",
    "print('')\n",
    "print('------------------------------------------------------------')   \n",
    "print('Time elapsed (hh:mm:ss.ms):', time.strftime(\"%H:%M:%S\", time.gmtime(elapsed_time)))"
   ]
  },
  {
   "cell_type": "markdown",
   "metadata": {},
   "source": [
    "Show some exemplary predicted masks"
   ]
  },
  {
   "cell_type": "code",
   "execution_count": 6,
   "metadata": {},
   "outputs": [
    {
     "data": {
      "image/png": "[encoded data removed]",
      "text/plain": [
       "<Figure size 576x288 with 2 Axes>"
      ]
     },
     "metadata": {
      "needs_background": "light"
     },
     "output_type": "display_data"
    }
   ],
   "source": [
    "fig, ax = plt.subplots(1,2, figsize = (8,4))\n",
    "ax[0].imshow(prediction_stack[0], cmap=lbl_cmap)#; plt.colorbar(fraction=0.046, pad=0.04)\n",
    "ax[1].imshow(prediction_stack[1], cmap=lbl_cmap)\n",
    "plt.show()"
   ]
  },
  {
   "cell_type": "markdown",
   "metadata": {},
   "source": [
    "Print measurements from last image"
   ]
  },
  {
   "cell_type": "code",
   "execution_count": 7,
   "metadata": {},
   "outputs": [
    {
     "name": "stdout",
     "output_type": "stream",
     "text": [
      "    major_axis_length  minor_axis_length     area  perimeter\n",
      "0            0.694336           0.498474   4.1280   1.868601\n",
      "1            1.342518           0.897985  12.8355   3.995203\n",
      "2            0.793851           0.556765   5.3535   2.073168\n",
      "3            0.599637           0.460491   3.2895   1.670517\n",
      "4            1.337457           0.935723  14.2545   3.721552\n",
      "..                ...                ...      ...        ...\n",
      "56           1.133135           0.748682  10.3200   2.976168\n",
      "57           1.449366           0.623439  10.9650   3.341035\n",
      "58           0.939572           0.747007   8.5140   2.642601\n",
      "59           1.095484           0.652188   8.6430   2.749468\n",
      "60           1.370600           0.755000  11.9970   3.470035\n",
      "\n",
      "[499 rows x 4 columns]\n"
     ]
    }
   ],
   "source": [
    "print(table_stack)"
   ]
  },
  {
   "cell_type": "code",
   "execution_count": null,
   "metadata": {},
   "outputs": [],
   "source": []
  }
 ],
 "metadata": {
  "kernelspec": {
   "display_name": "Python 3",
   "language": "python",
   "name": "python3"
  },
  "language_info": {
   "codemirror_mode": {
    "name": "ipython",
    "version": 3
   },
   "file_extension": ".py",
   "mimetype": "text/x-python",
   "name": "python",
   "nbconvert_exporter": "python",
   "pygments_lexer": "ipython3",
   "version": "3.8.3"
  }
 },
 "nbformat": 4,
 "nbformat_minor": 2
}
